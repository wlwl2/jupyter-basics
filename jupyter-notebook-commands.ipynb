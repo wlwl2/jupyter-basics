{
 "cells": [
  {
   "cell_type": "markdown",
   "metadata": {},
   "source": [
    "# Jupyter Notebook Commands\n",
    "\n",
    "## All modes\n",
    "\n",
    "`shift-enter` run cell, select below\n",
    "`ctrl-enter` run selected cells\n",
    "`alt-enter` run cell and insert below\n",
    "\n",
    "## Command mode\n",
    "\n",
    "`up/k` select cell above\n",
    "`down/j` select cell below\n",
    "`a` add cell below\n",
    "`b` add cell above\n",
    "`d,d` delete currently selected cell\n",
    "`enter` enter edit mode (green cell border)\n",
    "`s` save notebook\n",
    "\n",
    "## Edit mode\n",
    "\n",
    "Cell editing: x, c, v, d, z\n",
    "\n",
    "Change Cell types: y, m, 1-6, t\n",
    "Kernel operations: i, 0 (press twice)\n",
    "\n",
    "`%lsmagic` # See magic commands available\n",
    "`?%alias_magic` # Retrieving documentation on the alias_magic command\n",
    "`?range` # Retrieving information on the range() function\n",
    "\n",
    "Press 'escape' to enter command mode.\n",
    "\n",
    "Press 'h' in command mode to get a list of keyboard shortcuts.\n"
   ]
  }
 ],
 "metadata": {
  "kernelspec": {
   "display_name": "Python 3",
   "language": "python",
   "name": "python3"
  },
  "language_info": {
   "codemirror_mode": {
    "name": "ipython",
    "version": 3
   },
   "file_extension": ".py",
   "mimetype": "text/x-python",
   "name": "python",
   "nbconvert_exporter": "python",
   "pygments_lexer": "ipython3",
   "version": "3.6.3"
  }
 },
 "nbformat": 4,
 "nbformat_minor": 2
}
